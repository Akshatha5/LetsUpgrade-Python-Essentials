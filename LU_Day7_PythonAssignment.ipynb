{
 "cells": [
  {
   "cell_type": "code",
   "execution_count": 1,
   "metadata": {},
   "outputs": [
    {
     "name": "stdout",
     "output_type": "stream",
     "text": [
      "{'FTP': 21, 'SSH': 22, 'telnet': 23, 'http': 80}\n"
     ]
    }
   ],
   "source": [
    "'''\n",
    "Question 1\n",
    "'''\n",
    "port1={21:\"FTP\",22:\"SSH\",23:\"telnet\",80:\"http\"}\n",
    "print({values:key for key,values in port1.items()})"
   ]
  },
  {
   "cell_type": "code",
   "execution_count": 6,
   "metadata": {},
   "outputs": [
    {
     "name": "stdout",
     "output_type": "stream",
     "text": [
      "[3, 7, 11, 9]\n"
     ]
    }
   ],
   "source": [
    "''' \n",
    "Question 1 \n",
    "'''\n",
    "list1=[(1,2),(3,4),(5,6),(4,5)]\n",
    "list2=[]\n",
    "for each in list1:\n",
    "    Sum=sum(each)\n",
    "    list2.append(Sum)\n",
    "print(list2)"
   ]
  },
  {
   "cell_type": "code",
   "execution_count": 7,
   "metadata": {},
   "outputs": [
    {
     "name": "stdout",
     "output_type": "stream",
     "text": [
      "(1, 2, 3)\n",
      "[1, 2]\n",
      "['a', 'hit', 'less']\n"
     ]
    }
   ],
   "source": [
    "'''  \n",
    "Question 3  \n",
    "'''\n",
    "All=[(1,2,3),[1,2],['a','hit','less']]\n",
    "for each in All:\n",
    "    print(each)"
   ]
  },
  {
   "cell_type": "code",
   "execution_count": null,
   "metadata": {},
   "outputs": [],
   "source": []
  }
 ],
 "metadata": {
  "kernelspec": {
   "display_name": "Python 3",
   "language": "python",
   "name": "python3"
  },
  "language_info": {
   "codemirror_mode": {
    "name": "ipython",
    "version": 3
   },
   "file_extension": ".py",
   "mimetype": "text/x-python",
   "name": "python",
   "nbconvert_exporter": "python",
   "pygments_lexer": "ipython3",
   "version": "3.7.6"
  }
 },
 "nbformat": 4,
 "nbformat_minor": 4
}
