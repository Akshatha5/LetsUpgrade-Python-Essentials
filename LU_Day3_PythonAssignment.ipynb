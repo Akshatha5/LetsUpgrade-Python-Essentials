{
 "cells": [
  {
   "cell_type": "code",
   "execution_count": 1,
   "metadata": {},
   "outputs": [
    {
     "name": "stdout",
     "output_type": "stream",
     "text": [
      "Enter the number:10\n",
      "55\n"
     ]
    }
   ],
   "source": [
    "'''\n",
    "Q1) Sum of the number\n",
    "'''\n",
    "Num=int(input(\"Enter the number:\"))\n",
    "Sum=0\n",
    "i=1\n",
    "while(i <= Num):\n",
    "    Sum = Sum + i\n",
    "    i = i+1\n",
    "print(Sum)"
   ]
  },
  {
   "cell_type": "code",
   "execution_count": 2,
   "metadata": {},
   "outputs": [
    {
     "name": "stdout",
     "output_type": "stream",
     "text": [
      "Enter the number3\n",
      "Prime number\n"
     ]
    }
   ],
   "source": [
    "'''\n",
    "Q2) Number is Prime or Not\n",
    "'''\n",
    "Number=int(input(\"Enter the number\"))\n",
    "if Number>0:\n",
    "    for i in range(2,Number):\n",
    "        if Number % i ==0:\n",
    "            print(\"Not prime number\")\n",
    "            break\n",
    "    else:\n",
    "        print(\"Prime number\")\n",
    "else:\n",
    "    print(\"Not prime number\")"
   ]
  },
  {
   "cell_type": "code",
   "execution_count": 3,
   "metadata": {},
   "outputs": [
    {
     "name": "stdout",
     "output_type": "stream",
     "text": [
      "Enter the number10\n",
      "Not prime number\n"
     ]
    }
   ],
   "source": [
    "'''\n",
    "Q2) Number is Prime or Not\n",
    "'''\n",
    "Number=int(input(\"Enter the number\"))\n",
    "if Number>0:\n",
    "    for i in range(2,Number):\n",
    "        if Number % i ==0:\n",
    "            print(\"Not prime number\")\n",
    "            break\n",
    "    else:\n",
    "        print(\"Prime number\")\n",
    "else:\n",
    "    print(\"Not prime number\")"
   ]
  },
  {
   "cell_type": "code",
   "execution_count": null,
   "metadata": {},
   "outputs": [],
   "source": []
  }
 ],
 "metadata": {
  "kernelspec": {
   "display_name": "Python 3",
   "language": "python",
   "name": "python3"
  },
  "language_info": {
   "codemirror_mode": {
    "name": "ipython",
    "version": 3
   },
   "file_extension": ".py",
   "mimetype": "text/x-python",
   "name": "python",
   "nbconvert_exporter": "python",
   "pygments_lexer": "ipython3",
   "version": "3.7.6"
  }
 },
 "nbformat": 4,
 "nbformat_minor": 4
}
