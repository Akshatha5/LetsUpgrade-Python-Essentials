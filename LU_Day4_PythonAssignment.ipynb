{
 "cells": [
  {
   "cell_type": "code",
   "execution_count": null,
   "metadata": {},
   "outputs": [
    {
     "name": "stdout",
     "output_type": "stream",
     "text": [
      "Enter the string:what we think we become; we are Python programmer\n",
      "Enter the word:we\n",
      "Ocuurance of 'we' in string : 3\n",
      "Index of 'we' in string\n",
      "5\n",
      "14\n",
      "25\n"
     ]
    }
   ],
   "source": [
    "'''\n",
    "Q1) Find all ocuurance of substring in the given string\n",
    "'''\n",
    "string=input(\"Enter the string:\")\n",
    "search=input(\"Enter the word:\")\n",
    "Count1=string.count(search)\n",
    "print(\"Ocuurance of '%s' in string :\"%search,Count1)\n",
    "print(\"Index of '%s' in string\"%search)\n",
    "k=0\n",
    "if string.find(search) == 0:\n",
    "    print(0)\n",
    "while k <= len(string):\n",
    "    Pos=string.find(search,k+1)\n",
    "    if Pos >=0:\n",
    "        print(Pos)\n",
    "        k = Pos + k"
   ]
  },
  {
   "cell_type": "code",
   "execution_count": 2,
   "metadata": {},
   "outputs": [
    {
     "data": {
      "text/plain": [
       "True"
      ]
     },
     "execution_count": 2,
     "metadata": {},
     "output_type": "execute_result"
    }
   ],
   "source": [
    "'''\n",
    "Q2)Explain using islower & isupper with different kinds of strings\n",
    "'''\n",
    "\n",
    "string1=\"hello word\"\n",
    "string1.islower()"
   ]
  },
  {
   "cell_type": "code",
   "execution_count": 4,
   "metadata": {},
   "outputs": [
    {
     "name": "stdout",
     "output_type": "stream",
     "text": [
      "hello word is in lowercase\n",
      "Uppercase of hello word is HELLO WORD\n"
     ]
    }
   ],
   "source": [
    "string2=\"hello word\"\n",
    "if string2.islower():\n",
    "    print(\"%s is in lowercase\"%string2)\n",
    "    print(\"Uppercase of %s is\"%string2,string2.upper())"
   ]
  },
  {
   "cell_type": "code",
   "execution_count": 5,
   "metadata": {},
   "outputs": [
    {
     "data": {
      "text/plain": [
       "True"
      ]
     },
     "execution_count": 5,
     "metadata": {},
     "output_type": "execute_result"
    }
   ],
   "source": [
    "string2=\"HELLO WORD\"\n",
    "string2.isupper()"
   ]
  },
  {
   "cell_type": "code",
   "execution_count": 6,
   "metadata": {},
   "outputs": [
    {
     "name": "stdout",
     "output_type": "stream",
     "text": [
      "HELLO WORD is in uppercase\n",
      "Lowercase of HELLO WORD is hello word\n"
     ]
    }
   ],
   "source": [
    "string2=\"HELLO WORD\"\n",
    "if string2.isupper():\n",
    "    print(\"%s is in uppercase\"%string2)\n",
    "    print(\"Lowercase of %s is\"%string2,string2.lower())"
   ]
  },
  {
   "cell_type": "code",
   "execution_count": 7,
   "metadata": {},
   "outputs": [
    {
     "data": {
      "text/plain": [
       "False"
      ]
     },
     "execution_count": 7,
     "metadata": {},
     "output_type": "execute_result"
    }
   ],
   "source": [
    "string1=\"Python\"\n",
    "string1.islower()"
   ]
  },
  {
   "cell_type": "code",
   "execution_count": 8,
   "metadata": {},
   "outputs": [
    {
     "data": {
      "text/plain": [
       "False"
      ]
     },
     "execution_count": 8,
     "metadata": {},
     "output_type": "execute_result"
    }
   ],
   "source": [
    "string1=\"Python\"\n",
    "string1.isupper()"
   ]
  },
  {
   "cell_type": "code",
   "execution_count": null,
   "metadata": {},
   "outputs": [],
   "source": []
  }
 ],
 "metadata": {
  "kernelspec": {
   "display_name": "Python 3",
   "language": "python",
   "name": "python3"
  },
  "language_info": {
   "codemirror_mode": {
    "name": "ipython",
    "version": 3
   },
   "file_extension": ".py",
   "mimetype": "text/x-python",
   "name": "python",
   "nbconvert_exporter": "python",
   "pygments_lexer": "ipython3",
   "version": "3.7.6"
  }
 },
 "nbformat": 4,
 "nbformat_minor": 4
}
